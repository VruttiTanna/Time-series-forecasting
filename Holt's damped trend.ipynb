{
 "cells": [
  {
   "cell_type": "code",
   "execution_count": 2,
   "metadata": {},
   "outputs": [],
   "source": [
    "#from statsmodels.tsa.api import ExponentialSmoothing, SimpleExpSmoothing, Holt\n",
    "from statsmodels.tsa.holtwinters import SimpleExpSmoothing, Holt\n",
    "\n",
    "import numpy as np\n",
    "import pandas as pd"
   ]
  },
  {
   "cell_type": "code",
   "execution_count": 3,
   "metadata": {},
   "outputs": [],
   "source": [
    "data = pd.read_csv('D:\\\\..\\\\Book4.csv') ## local path\n",
    "df = pd.DataFrame(data)\n",
    "train = df['Y'].iloc[0:23]\n",
    "test = df['Y'].iloc[23:24]"
   ]
  },
  {
   "cell_type": "code",
   "execution_count": 13,
   "metadata": {},
   "outputs": [
    {
     "name": "stdout",
     "output_type": "stream",
     "text": [
      "23    266\n",
      "Name: Y, dtype: int64\n"
     ]
    }
   ],
   "source": [
    "print(test)"
   ]
  },
  {
   "cell_type": "code",
   "execution_count": 23,
   "metadata": {},
   "outputs": [],
   "source": [
    "fit2=  Holt(train, damped_trend=True, initialization_method=\"estimated\").fit(smoothing_level=0.4, \n",
    "                                                                             smoothing_trend=0.3, damping_trend= 0.95)\n"
   ]
  },
  {
   "cell_type": "code",
   "execution_count": 24,
   "metadata": {},
   "outputs": [],
   "source": [
    "pred2 = fit2.forecast(1)"
   ]
  },
  {
   "cell_type": "code",
   "execution_count": 25,
   "metadata": {},
   "outputs": [
    {
     "name": "stdout",
     "output_type": "stream",
     "text": [
      "23    241.508779\n",
      "dtype: float64\n"
     ]
    }
   ],
   "source": [
    "print(pred2)"
   ]
  },
  {
   "cell_type": "code",
   "execution_count": 38,
   "metadata": {},
   "outputs": [],
   "source": [
    "fit3 =  Holt(train, initialization_method=\"estimated\").fit(smoothing_level=0.50, \n",
    "                                                           smoothing_trend=0.01, damping_trend= 0.96)\n"
   ]
  },
  {
   "cell_type": "code",
   "execution_count": 39,
   "metadata": {},
   "outputs": [],
   "source": [
    "pred3 = fit3.forecast(1)"
   ]
  },
  {
   "cell_type": "code",
   "execution_count": 40,
   "metadata": {},
   "outputs": [
    {
     "name": "stdout",
     "output_type": "stream",
     "text": [
      "23    244.143043\n",
      "dtype: float64\n"
     ]
    }
   ],
   "source": [
    "print(pred3)"
   ]
  },
  {
   "cell_type": "code",
   "execution_count": 32,
   "metadata": {},
   "outputs": [
    {
     "name": "stdout",
     "output_type": "stream",
     "text": [
      "13    63.214829\n",
      "dtype: float64\n"
     ]
    }
   ],
   "source": [
    "data = pd.read_csv('E:\\\\..\\\\Book4.csv') #path\n",
    "df = pd.DataFrame(data)\n",
    "train = df['Y2'].iloc[1:13]\n",
    "test = df['Y2'].iloc[13:14]\n",
    "\n",
    "fit2=  Holt(train, damped_trend=True, initialization_method=\"estimated\").fit(smoothing_level=1, smoothing_trend=0.59, damping_trend= 0.95)\n",
    "\n",
    "\n",
    "pred2 = fit2.forecast(1)\n",
    "\n",
    "print(pred2)\n",
    "\n"
   ]
  },
  {
   "cell_type": "code",
   "execution_count": 33,
   "metadata": {},
   "outputs": [
    {
     "name": "stdout",
     "output_type": "stream",
     "text": [
      "1      7.15\n",
      "2     10.18\n",
      "3     13.39\n",
      "4     17.06\n",
      "5     18.36\n",
      "6     18.88\n",
      "7     21.62\n",
      "8     30.53\n",
      "9     36.36\n",
      "10    40.73\n",
      "11    45.19\n",
      "12    55.67\n",
      "Name: Y2, dtype: float64\n"
     ]
    }
   ],
   "source": [
    "print(train)"
   ]
  },
  {
   "cell_type": "code",
   "execution_count": null,
   "metadata": {},
   "outputs": [],
   "source": []
  }
 ],
 "metadata": {
  "kernelspec": {
   "display_name": "Python 3",
   "language": "python",
   "name": "python3"
  },
  "language_info": {
   "codemirror_mode": {
    "name": "ipython",
    "version": 3
   },
   "file_extension": ".py",
   "mimetype": "text/x-python",
   "name": "python",
   "nbconvert_exporter": "python",
   "pygments_lexer": "ipython3",
   "version": "3.8.5"
  }
 },
 "nbformat": 4,
 "nbformat_minor": 4
}
