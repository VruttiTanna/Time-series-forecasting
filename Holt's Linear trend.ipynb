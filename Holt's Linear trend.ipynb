{
 "cells": [
  {
   "cell_type": "code",
   "execution_count": 1,
   "metadata": {},
   "outputs": [],
   "source": [
    "import pandas as pd\n",
    "from statsmodels.tsa.holtwinters import SimpleExpSmoothing, Holt\n",
    "from statsmodels.tsa.api import ExponentialSmoothing, SimpleExpSmoothing, Holt\n",
    "import numpy as np"
   ]
  },
  {
   "cell_type": "code",
   "execution_count": 19,
   "metadata": {},
   "outputs": [],
   "source": [
    "data = pd.read_csv('E:\\\\vrutti\\\\Book4.csv') #your path\n",
    "df = pd.DataFrame(data)\n",
    "train = df['Y'].iloc[0:23]\n",
    "test = df['Y'].iloc[23:24]"
   ]
  },
  {
   "cell_type": "code",
   "execution_count": 20,
   "metadata": {},
   "outputs": [
    {
     "name": "stdout",
     "output_type": "stream",
     "text": [
      "0     143\n",
      "1     152\n",
      "2     161\n",
      "3     139\n",
      "4     137\n",
      "5     174\n",
      "6     142\n",
      "7     141\n",
      "8     162\n",
      "9     180\n",
      "10    164\n",
      "11    171\n",
      "12    206\n",
      "13    193\n",
      "14    207\n",
      "15    218\n",
      "16    229\n",
      "17    225\n",
      "18    204\n",
      "19    227\n",
      "20    223\n",
      "21    242\n",
      "22    239\n",
      "Name: Y, dtype: int64\n",
      "23    266\n",
      "Name: Y, dtype: int64\n"
     ]
    }
   ],
   "source": [
    "print(train)\n",
    "print(test)"
   ]
  },
  {
   "cell_type": "code",
   "execution_count": 21,
   "metadata": {},
   "outputs": [],
   "source": [
    "model = Holt(np.asarray(train))\n",
    "\n",
    "fit1 = model.fit(smoothing_level=.4, smoothing_trend=.3)\n",
    "pred1 = fit1.forecast(1)"
   ]
  },
  {
   "cell_type": "code",
   "execution_count": 22,
   "metadata": {},
   "outputs": [
    {
     "name": "stdout",
     "output_type": "stream",
     "text": [
      "[243.29754988]\n"
     ]
    }
   ],
   "source": [
    "print(pred1)"
   ]
  },
  {
   "cell_type": "code",
   "execution_count": 23,
   "metadata": {},
   "outputs": [],
   "source": [
    "fit1 = Holt(train,exponential=True, initialization_method=\"estimated\").\n",
    "fit(smoothing_level=0.5, smoothing_trend=0.07, optimized=True)\n",
    "\n",
    "pred1 = fit1.forecast(1)"
   ]
  },
  {
   "cell_type": "code",
   "execution_count": 24,
   "metadata": {},
   "outputs": [
    {
     "name": "stdout",
     "output_type": "stream",
     "text": [
      "23    246.912894\n",
      "dtype: float64\n"
     ]
    }
   ],
   "source": [
    "print(pred1)"
   ]
  },
  {
   "cell_type": "code",
   "execution_count": null,
   "metadata": {},
   "outputs": [],
   "source": []
  }
 ],
 "metadata": {
  "kernelspec": {
   "display_name": "Python 3",
   "language": "python",
   "name": "python3"
  },
  "language_info": {
   "codemirror_mode": {
    "name": "ipython",
    "version": 3
   },
   "file_extension": ".py",
   "mimetype": "text/x-python",
   "name": "python",
   "nbconvert_exporter": "python",
   "pygments_lexer": "ipython3",
   "version": "3.8.5"
  }
 },
 "nbformat": 4,
 "nbformat_minor": 4
}
